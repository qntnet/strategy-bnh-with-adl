{
 "cells": [
  {
   "cell_type": "markdown",
   "metadata": {},
   "source": [
    "# Buy-and-Hold Strategy with Advance/Decline Line"
   ]
  },
  {
   "cell_type": "code",
   "execution_count": null,
   "metadata": {},
   "outputs": [],
   "source": [
    "# Import basic libraries for manipulating data.\n",
    "\n",
    "# Please refer to xarray.pydata.org for xarray documentation.\n",
    "\n",
    "# xarray works optimally with N-dimensional datasets in Python\n",
    "# and is well suited for financial datasets with labels \"time\",\n",
    "# \"field\" and \"asset\". xarray data structures can also be easily\n",
    "# converted to pandas dataframes.\n",
    "\n",
    "import xarray as xr\n",
    "import numpy as np\n",
    "import pandas as pd\n",
    "\n",
    "# Import quantnet libraries.\n",
    "\n",
    "import qnt.data as qndata    # data loading and manipulation\n",
    "import qnt.stats as qnstats  # key statistics\n",
    "import qnt.graph as qngraph  # graphical tools\n",
    "import qnt.ta as qnta        # indicator library\n",
    "\n",
    "# display function for fancy displaying:\n",
    "from IPython.display import display\n",
    "\n",
    "# plotly lib for charts:\n",
    "import plotly.graph_objs as go\n",
    "\n",
    "# time lib:\n",
    "import time"
   ]
  },
  {
   "cell_type": "markdown",
   "metadata": {},
   "source": [
    "## Loading Data\n",
    "\n",
    "Strategies must have a minimal **3-year in-sample track record** in order to be accepted for live evaluation after submission and they must define allocation weights for all assets every day during the live evaluation itself.\n",
    "\n",
    "Allocation weights are the fractions of capital the strategy is investing in the loaded assets. The QuantNet library follows the convention of positive allocation weights for long positions, negative allocation weights for short positions and vanishing allocation weights for those assets the strategy is not exposed to.\n",
    "\n",
    "The sum of the absolute values of the allocation weights must be smaller or equal to 1, otherwise the QuantNet library will automatically scale down the allocation weights so that the sum of their absolute values is equal to 1.\n",
    "\n",
    "The load function provided by the QuantNet library allows the user to define a time interval for loading the data:\n",
    "\n",
    "* min_date defines the initial point of the simulation and it must be at least 3 years before the current date;\n",
    "\n",
    "* max_date defines the final point of the simulation. It can be used for developing the system on a limited in-sample period. The system can later be tested on out-of-sample data between max_date and the current date. \n",
    "\n",
    "Once development has been completed it is mandatory to **remove any reference to max_date** (for example, commenting the correspondent line) so that the submission will run on live data."
   ]
  },
  {
   "cell_type": "code",
   "execution_count": null,
   "metadata": {},
   "outputs": [],
   "source": [
    "data = qndata.load_data(min_date=\"2000-01-01\",\n",
    "                        max_date=\"2019-08-13\",           # You should not limit max date for the submission!\n",
    "                        dims=(\"time\", \"field\", \"asset\"), # DataArray coordinates\n",
    "                        forward_order=True               # Load data in ascending order\n",
    "                       )"
   ]
  },
  {
   "cell_type": "markdown",
   "metadata": {},
   "source": [
    "## Buy-and-Hold Strategy"
   ]
  },
  {
   "cell_type": "markdown",
   "metadata": {},
   "source": [
    "Here a buy-and-hold strategy on liquid assets is defined. The strategy defines equal positive allocation weights on all liquid assets and is fully invested.\n",
    "\n",
    "It is important to **trade only liquid assets**, as defined by the corresponding QuantNet filter function, otherwise the submission will not be accepted for live evaluation.\n",
    "\n",
    "After strategy definition local (i.e. their value corresponds to the given date) key statistical indicators are computed:\n",
    "\n",
    " * equity: the value of the equity curve, i.e. the cumulative sum of profits and losses;\n",
    " * relative_return: the relative return of the strategy;\n",
    " * underwater: the value of the underwater chart, i.e. the chart tracking peak-to-through losses before a new peak is achieved; \n",
    " * bias: the ratio of the difference between unsigned long and short allocation weights and their sum.\n",
    " \n",
    "Global statistics are also shown:\n",
    "\n",
    "* max_drawdown: the largest value in absolute sense of the underwater chart during all simulation interval;\n",
    "* instruments: the number of instruments which got allocation for at least 1 day during all simulation interval.\n",
    "\n",
    "The most interesting statistics are those evaluated on a rolling window of 3 years:\n",
    "\n",
    "* volatility: the standard deviation of the relative returns;\n",
    "* mean_return: the mean value of the relative returns;\n",
    "* sharpe_ratio: the ratio of mean_return and volatility;\n",
    "* avg_turnover: the average daily turnover. \n",
    "\n",
    "A submission will be accepted only if its **Sharpe ratio is larger than 1 over the last 3 years** at submission time."
   ]
  },
  {
   "cell_type": "code",
   "execution_count": null,
   "metadata": {},
   "outputs": [],
   "source": [
    "output = data.sel(field=\"is_liquid\") # 1 <-> asset is liquid; 0 otherwise\n",
    "\n",
    "# normalize allocation weights so that the sum of absolute values = 1:\n",
    "output = output / output.sum(\"asset\")\n",
    "\n",
    "stats = qnstats.calc_stat(data, output)\n",
    "\n",
    "display(stats.to_pandas().tail())\n",
    "\n",
    "equity_curve = stats.loc[:,\"equity\"]\n",
    "\n",
    "# draw performance chart:\n",
    "fig = go.Figure(data = [\n",
    "    go.Scatter(\n",
    "        x=equity_curve.time.to_pandas(),\n",
    "        y=equity_curve,\n",
    "        hovertext=\"Equity curve\",\n",
    "    )\n",
    "])\n",
    "fig.update_yaxes(fixedrange=False) # unlock vertical scrolling\n",
    "fig.show()"
   ]
  },
  {
   "cell_type": "markdown",
   "metadata": {},
   "source": [
    "## Buy-and-Hold Strategy with Advance/Decline Line"
   ]
  },
  {
   "cell_type": "markdown",
   "metadata": {},
   "source": [
    "The buy-and-hold-strategy has problems when the overall stock market is in a bearish phase and is going down. The strategy can be improved using an indicator known as Advance/Decline line, which measures the number of instruments participating in a rise/fall of the stock market:\n",
    "\n",
    "adl(today) = adl(yesterday) + nr. advancing instruments - nr. declining instruments"
   ]
  },
  {
   "cell_type": "code",
   "execution_count": null,
   "metadata": {},
   "outputs": [],
   "source": [
    "# define Advance/Decline Line using \"close\" prices:\n",
    "adl = qnta.ad_line(data.sel(field=\"close\")) * 1.0\n",
    "\n",
    "# smooth line using an exponential moving average:\n",
    "adl_ma = qnta.ema(adl, 110)\n",
    "\n",
    "# consider the variation of the previous indicator:\n",
    "adl_ma_ch = adl_ma - adl_ma.shift(time=13)\n",
    "\n",
    "# define a positive trend for positive values:\n",
    "positive_trend = adl_ma_ch > 0\n",
    "\n",
    "# draw adl chart and visualize if strategy catches positive trends:\n",
    "fig = go.Figure(data = [\n",
    "    go.Scatter(\n",
    "        x=adl_ma.time.to_pandas(),\n",
    "        y=adl_ma,\n",
    "        name=\"adl_ma\",\n",
    "        line= dict(width=1,color=\"red\")\n",
    "    ),\n",
    "    go.Scatter(\n",
    "        x=adl_ma.time.to_pandas(),\n",
    "        y=adl_ma.where(positive_trend),\n",
    "        name=\"positive trend\",\n",
    "        line = dict(width=2,color=\"green\")\n",
    "    )\n",
    "])\n",
    "fig.update_yaxes(fixedrange=False) # unlock vertical scrolling\n",
    "fig.show()\n",
    "\n",
    "# calculate output using the same liquidity filter of the buy-and-hold strategy\n",
    "# supplemented by the positive trend condition:\n",
    "output = data.sel(field=\"is_liquid\")\n",
    "output = output.where(positive_trend)\n",
    "output = output / output.sum(\"asset\")\n",
    "\n",
    "stats = qnstats.calc_stat(data, output)\n",
    "\n",
    "display(stats.to_pandas().tail())\n",
    "\n",
    "equity_curve = stats.loc[:,\"equity\"]\n",
    "\n",
    "# draw performance chart:\n",
    "fig = go.Figure(data = [\n",
    "    go.Scatter(\n",
    "        x=equity_curve.time.to_pandas(),\n",
    "        y=equity_curve,\n",
    "        hovertext=\"Equity curve\",\n",
    "    )\n",
    "])\n",
    "fig.update_yaxes(fixedrange=False) # unlock vertical scrolling\n",
    "fig.show()"
   ]
  },
  {
   "cell_type": "markdown",
   "metadata": {},
   "source": [
    "# Final calculations"
   ]
  },
  {
   "cell_type": "code",
   "execution_count": null,
   "metadata": {},
   "outputs": [],
   "source": [
    "data = qndata.load_data(min_date=\"2000-01-01\",\n",
    "                        #max_date=\"2019-08-13\",           # You should not limit max date for the submission!\n",
    "                        dims=(\"time\", \"field\", \"asset\"), # DataArray coordinates\n",
    "                        forward_order=True               # Load data in ascending order\n",
    "                       )\n",
    "adl = qnta.ad_line(data.sel(field=\"close\")) * 1.0\n",
    "adl_ma = qnta.ema(adl, 110)\n",
    "\n",
    "adl_ma_ch = adl_ma - adl_ma.shift(time=13)\n",
    "positive_trend = adl_ma_ch > 0\n",
    "\n",
    "output = data.sel(field=\"is_liquid\")\n",
    "output = output.where(positive_trend)\n",
    "output = output / output.sum(\"asset\")\n",
    "\n",
    "stats = qnstats.calc_stat(data, output)"
   ]
  },
  {
   "cell_type": "markdown",
   "metadata": {},
   "source": [
    "## Plots"
   ]
  },
  {
   "cell_type": "code",
   "execution_count": null,
   "metadata": {},
   "outputs": [],
   "source": [
    "# show plot with profit and losses:\n",
    "performance = stats.to_pandas()[\"equity\"].iloc[(252*3):]\n",
    "qngraph.make_plot_filled(performance.index, performance, name=\"Equity Curve\", type=\"log\")"
   ]
  },
  {
   "cell_type": "code",
   "execution_count": null,
   "metadata": {},
   "outputs": [],
   "source": [
    "# show underwater chart:\n",
    "UWchart = stats.to_pandas()[\"underwater\"].iloc[(252*3):]\n",
    "qngraph.make_plot_filled(UWchart.index, UWchart, color=\"darkred\", name=\"Underwater Chart\", range_max=0)"
   ]
  },
  {
   "cell_type": "code",
   "execution_count": null,
   "metadata": {},
   "outputs": [],
   "source": [
    "# show rolling Sharpe ratio on a 3-year basis:\n",
    "SRchart = stats.to_pandas()[\"sharpe_ratio\"].iloc[(252*3):]\n",
    "qngraph.make_plot_filled(SRchart.index, SRchart, color=\"#F442C5\", name=\"Rolling Share Ratio\")"
   ]
  },
  {
   "cell_type": "code",
   "execution_count": null,
   "metadata": {},
   "outputs": [],
   "source": [
    "# show bias chart:\n",
    "biaschart = stats.to_pandas()[\"bias\"].iloc[(252*3):]\n",
    "qngraph.make_plot_filled(biaschart.index, biaschart, color=\"#5A6351\", name=\"Bias Chart\")"
   ]
  },
  {
   "cell_type": "markdown",
   "metadata": {},
   "source": [
    "## Check Correlations\n",
    "\n",
    "The following check is important before submission, as the correlation of the strategy over the last 3 years with all strategies running on the QuantNet platform with a higher Sharpe ratio over the last 3 years **must be smaller than 0.8** at submission time."
   ]
  },
  {
   "cell_type": "code",
   "execution_count": null,
   "metadata": {},
   "outputs": [],
   "source": [
    "qnstats.print_correlation(output, data)"
   ]
  },
  {
   "cell_type": "markdown",
   "metadata": {},
   "source": [
    "## Write Output\n",
    "\n",
    "The write output step is mandatory for submission."
   ]
  },
  {
   "cell_type": "code",
   "execution_count": null,
   "metadata": {},
   "outputs": [],
   "source": [
    "qndata.write_output(output)"
   ]
  }
 ],
 "metadata": {
  "kernelspec": {
   "display_name": "Python 3",
   "language": "python",
   "name": "python3"
  },
  "language_info": {
   "codemirror_mode": {
    "name": "ipython",
    "version": 3
   },
   "file_extension": ".py",
   "mimetype": "text/x-python",
   "name": "python",
   "nbconvert_exporter": "python",
   "pygments_lexer": "ipython3",
   "version": "3.7.3"
  }
 },
 "nbformat": 4,
 "nbformat_minor": 2
}
